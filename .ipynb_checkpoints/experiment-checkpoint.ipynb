{
 "cells": [
  {
   "cell_type": "code",
   "execution_count": 1,
   "metadata": {},
   "outputs": [],
   "source": [
    "bbbbbbbbbbbbbbbbbbbbbbbbbbbbbbbbbbbb"
   ]
  },
  {
   "cell_type": "code",
   "execution_count": 2,
   "metadata": {},
   "outputs": [],
   "source": [
    "def convolve(image, kernel, padding, stride):\n",
    "    (ih,iw,ch) = image.shape[:3]\n",
    "    (kh,kw) = kernel.shape[:2]\n",
    "    oh = int((ih+2*padding-kh)/stride)+1\n",
    "    ow = int((iw+2*padding-kw)/stride)+1\n",
    "    output = np.zeros((oh,ow,ch),dtype=\"float32\")\n",
    "   \n",
    "    print(output.shape)\n",
    "    for y in np.arange(0,oh):\n",
    "        for x in np.arange(0,ow):\n",
    "            for c in np.arange(0,ch):\n",
    "                result = 0\n",
    "                for h in np.arange(0,kh):\n",
    "                    for w in np.arange(0,kw):\n",
    "                        Ww = x*stride+w\n",
    "                        Hh = y*stride+h\n",
    "                       \n",
    "                        if Ww<=(iw-1) and Hh<=(ih-1) and Ww>=0 and Hh>=0:\n",
    "                            result = result + image[Hh,Ww,c]*kernel[h,w]                               \n",
    "                #if result > 255:\n",
    "                #    result = result - 255\n",
    "                #elif result < 0:\n",
    "                #    result = result + 255\n",
    "               \n",
    "                output[y,x,c] = result\n",
    "               \n",
    "                output = rescale_intensity(output, in_range=(0,255))\n",
    "                output = (output*255).astype(\"uint8\")\n",
    "   \n",
    "    return output"
   ]
  },
  {
   "cell_type": "code",
   "execution_count": null,
   "metadata": {},
   "outputs": [
    {
     "name": "stdout",
     "output_type": "stream",
     "text": [
      "(540, 400, 3)\n"
     ]
    }
   ],
   "source": [
    "conv = convolve(img,kernel,pad,stride)\n",
    "#conv = conv.astype(\"uint8\")\n",
    "print(conv.shape)\n",
    "cv.imshow('conv',conv)\n",
    "cv.waitKey(0)\n",
    "cv.destroyAllWindows()\n",
    "\n",
    "\n",
    "\n",
    "\n",
    "\n",
    " "
   ]
  },
  {
   "cell_type": "code",
   "execution_count": null,
   "metadata": {},
   "outputs": [],
   "source": []
  }
 ],
 "metadata": {
  "kernelspec": {
   "display_name": "Python 3",
   "language": "python",
   "name": "python3"
  },
  "language_info": {
   "codemirror_mode": {
    "name": "ipython",
    "version": 3
   },
   "file_extension": ".py",
   "mimetype": "text/x-python",
   "name": "python",
   "nbconvert_exporter": "python",
   "pygments_lexer": "ipython3",
   "version": "3.5.2"
  }
 },
 "nbformat": 4,
 "nbformat_minor": 2
}
