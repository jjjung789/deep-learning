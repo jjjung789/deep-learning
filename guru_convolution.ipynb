{
 "cells": [
  {
   "cell_type": "code",
   "execution_count": null,
   "metadata": {},
   "outputs": [],
   "source": [
    "import numpy as np\n",
    "import cv2 as cv\n",
    "from skimage.exposure import rescale_intensity\n",
    "img = cv.imread('/home/socmgr/opencv/python/apple.jpg')\n",
    "\n",
    "kernel = np.array([[-1,-1,-1],[-1,8,-1],[-1,-1,-1]])\n",
    "#kernel = np.array([[0,-1,0],[-1,5,-1],[0,-1,0]])\n",
    "#kernel = np.array([[0,0,0],[0,1,0],[0,0,0]])\n",
    "\n",
    "def convolve(image, kernel, pad, stride):\n",
    "    (ih,iw,ch) = image.shape[:3]\n",
    "    (kh,kw) = kernel.shape[:2]\n",
    "    oh = int((ih+2*pad-kh)/stride)+1\n",
    "    ow = int((iw+2*pad-kw)/stride)+1\n",
    "    output = np.zeros((oh,ow,ch),dtype=\"float32\")\n",
    "    image = cv.copyMakeBorder(image, pad, pad, pad, pad, cv.BORDER_REPLICATE)\n",
    "\n",
    "    for y in np.arange(0,oh):\n",
    "        for x in np.arange(0,ow):\n",
    "            for c in np.arange(0,ch):\n",
    "                result = 0\n",
    "                for h in np.arange(0,kh):\n",
    "                    for w in np.arange(0,kw):\n",
    "                        Ww = x*stride+w\n",
    "                        Hh = y*stride+h\n",
    "                        result = result + image[Hh,Ww,c]*kernel[h,w]                               \n",
    "                #if result > 255:\n",
    "                #    result = result - 255\n",
    "                #elif result < 0:\n",
    "                #    result = result + 255\n",
    "               \n",
    "                output[y,x,c] = result\n",
    "               \n",
    "                output = rescale_intensity(output, in_range=(0,255))\n",
    "                output = (output*255).astype(\"uint8\")\n",
    "   \n",
    "    return output\n",
    "\n",
    "conv = convolve(img, kernel, 1, 1)\n",
    "\n",
    "cv.imshow('conv',conv)\n",
    "cv.waitKey(0)\n",
    "cv.destroyAllWindows()\n",
    " "
   ]
  },
  {
   "cell_type": "code",
   "execution_count": null,
   "metadata": {},
   "outputs": [],
   "source": []
  }
 ],
 "metadata": {
  "kernelspec": {
   "display_name": "Python 3",
   "language": "python",
   "name": "python3"
  },
  "language_info": {
   "codemirror_mode": {
    "name": "ipython",
    "version": 3
   },
   "file_extension": ".py",
   "mimetype": "text/x-python",
   "name": "python",
   "nbconvert_exporter": "python",
   "pygments_lexer": "ipython3",
   "version": "3.5.2"
  }
 },
 "nbformat": 4,
 "nbformat_minor": 2
}
